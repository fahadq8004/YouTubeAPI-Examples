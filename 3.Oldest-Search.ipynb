{
 "cells": [
  {
   "cell_type": "markdown",
   "metadata": {},
   "source": [
    "# YouTube Data API (Search oldest videos on a topic)\n",
    "\n",
    "![](https://lh3.googleusercontent.com/j2SJC1grxLdL94kX7uB9WclD_nqX49oJs3K82Tok1MaPcx4TvB2m7xmw-Ub4dvFORwPSzruQBWePxtizfuY1r3j4GQvi1G9z=s688)\n",
    "\n",
    "[console.developers.google.com](https://console.developers.google.com/cloud-resource-manager)"
   ]
  },
  {
   "cell_type": "code",
   "execution_count": 1,
   "metadata": {},
   "outputs": [],
   "source": [
    "api_key = \"xxxxxxxxxxxxxxxxxxxxxxxxxxxxxxxx\""
   ]
  },
  {
   "cell_type": "code",
   "execution_count": 2,
   "metadata": {},
   "outputs": [],
   "source": [
    "from apiclient.discovery import build"
   ]
  },
  {
   "cell_type": "code",
   "execution_count": 3,
   "metadata": {},
   "outputs": [],
   "source": [
    "youtube = build('youtube', 'v3', developerKey=api_key)"
   ]
  },
  {
   "cell_type": "code",
   "execution_count": 4,
   "metadata": {},
   "outputs": [],
   "source": [
    "from datetime import datetime"
   ]
  },
  {
   "cell_type": "code",
   "execution_count": 5,
   "metadata": {},
   "outputs": [],
   "source": [
    "start_time = datetime(year=2005, month=1, day=1).strftime('%Y-%m-%dT%H:%M:%SZ')\n",
    "end_time = datetime(year=2010, month=1, day=1).strftime('%Y-%m-%dT%H:%M:%SZ')"
   ]
  },
  {
   "cell_type": "code",
   "execution_count": 6,
   "metadata": {},
   "outputs": [],
   "source": [
    "res = youtube.search().list(part='snippet',\n",
    "                            q='تقحيص',\n",
    "                            type='video',\n",
    "                            publishedAfter=start_time,\n",
    "                            publishedBefore=end_time,\n",
    "                            maxResults=50).execute()"
   ]
  },
  {
   "cell_type": "code",
   "execution_count": 7,
   "metadata": {},
   "outputs": [
    {
     "name": "stdout",
     "output_type": "stream",
     "text": [
      "Ministry of Silly Walks 2006-06-22T11:38:35.000Z IqhlQfXUk7w\n",
      "python3 2006-08-15T23:38:06.000Z 8fYhI4ZidkQ\n",
      "Monty Python - Skecz o biurze podróży 2006-08-27T13:15:37.000Z NOPbwRWk6bk\n",
      "python12 2006-10-14T16:59:56.000Z Lfy4uqSycyk\n",
      "python15 2006-10-15T00:14:09.000Z Mlv9TZsZE78\n",
      "Install Python On Windows 2006-12-21T00:52:38.000Z cnfJ72fgNk4\n",
      "wii + python + linux 2007-01-26T17:40:09.000Z ishqINM7RgY\n",
      "Monty Python's best sketch ever 2007-01-31T03:34:30.000Z T70-HTlKRXo\n",
      "linux + python + wii = fun!!! 2007-02-03T04:12:56.000Z yznIUR8iheo\n",
      "Monty Python - Spam 2007-02-15T01:47:37.000Z anwy2MPT5RE\n",
      "VTS v1.0 - Testing 2007-04-10T13:48:05.000Z QbDIarIidEY\n",
      "FFF/XTR Python 2007-04-22T09:27:21.000Z AliKyPSb7t4\n",
      "Python 1: Installation and beginner's tutorial. 2007-05-03T08:55:29.000Z NlK_f39eXCE\n",
      "Python sim demo 2007-05-03T10:55:58.000Z cl71knHg0ks\n",
      "Python 2: Getting around Python modules 2007-05-06T00:12:05.000Z 94t2tTHZ25M\n",
      "Python 1: Installation and beginners' tutorial 2007-05-06T08:09:24.000Z fxy1hgvLhDU\n",
      "Python Rap 2007-05-15T06:38:56.000Z 0ebbyRz-BZ0\n",
      "XML attributes and node array using python minidom 2007-05-17T15:44:21.000Z yb6R87eFR44\n",
      "Python urllib demo 2007-06-13T13:40:01.000Z _vrC-qBTw9U\n",
      "Lesson 3 - Interactive Programming 2007-07-16T02:31:12.000Z b0rx7jh50DM\n",
      "Python 3000 2007-07-23T20:58:48.000Z s-fKcZ5pKLE\n",
      "Lesson 4 - Using swig 2007-07-25T03:29:36.000Z dzhCV_I6stE\n",
      "Python Tutorial - Why Use Python? (1 of 3) 2007-08-09T22:40:24.000Z 0siRw35Ynms\n",
      "Python Tutorial - Hello World (2 of 3) 2007-08-09T22:49:20.000Z r53SYurwPYY\n",
      "First 5 Minutes Programming with Python 2007-08-11T14:23:50.000Z -_E7xWLvjxc\n",
      "Bay Area Python Interest Group August 2007 Meeting 2007-08-20T16:29:08.000Z g7V89K8QfgQ\n",
      "python5 2007-08-24T21:06:46.000Z J1UddEO4kRg\n",
      "python4_2 2007-08-24T21:20:46.000Z kglwIDTE79U\n",
      "python11_1 2007-08-24T22:22:52.000Z GRxz8g603aw\n",
      "python13_1 2007-08-24T22:36:32.000Z yuLQsruD8E0\n",
      "python14_2 2007-08-24T22:51:00.000Z chM7C1Hpcvo\n",
      "python16_1 2007-08-24T22:58:28.000Z A7cTTh7CxTA\n",
      "python 1 Minutes Programming with PARDUS 2007-08-25T00:51:30.000Z OxWhwbWucvQ\n",
      "python test driving 2007-08-25T08:40:16.000Z BjhO6ArjY4c\n",
      "Python Card III 2007-09-10T08:23:24.000Z zya-De-gN5Y\n",
      "monty python pl skecz apteka 2007-09-29T12:34:58.000Z TFzrx3sTUOU\n",
      "Python 3000 2007-10-09T02:26:35.000Z 66NThkgfc1U\n",
      "Python 3000 2007-10-09T02:37:33.000Z 1RjtT17WbcQ\n",
      "Advanced Topics in Programming Languages Series: Python... 2007-10-09T02:38:22.000Z 1Sbzmz1Nxvo\n",
      "Advanced Python or Understanding Python 2007-10-09T02:44:57.000Z E_kZDvwofHY\n",
      "Advanced Topics in Programming Languages Series: Python... 2007-10-09T02:47:41.000Z tJXhtncDBu4\n",
      "Compiling Dynamic Languages 2007-10-09T03:25:58.000Z OKFeLZqLxzQ\n",
      "ReUsable Web Components with Python and Future Python Web... 2007-10-09T03:29:05.000Z Ui-mSFuUZmQ\n",
      "OSS Speaker Series: Python for Programmer 2007-10-09T03:33:05.000Z ujkzfC2lebA\n",
      "Extra Credit Video Robot 2007-10-12T00:30:58.000Z MQPYTIwz8jQ\n",
      "Stackless Python on PSP demo 2007-11-15T13:41:58.000Z 69lvsVjPdlA\n",
      "Configure Python Idle Shell 2007-11-18T22:39:24.000Z gDSGbFXFJwE\n",
      "Python LCD class 2007-12-10T05:25:12.000Z 1knfYHJ_dQU\n",
      "Python Artwork 2007-12-16T23:47:24.000Z hUaPrPJbw9o\n",
      "Python tutorial for beginners 2007-12-31T21:45:31.000Z 29mq1Bn52GY\n"
     ]
    }
   ],
   "source": [
    "for item in sorted(res['items'], key=lambda x:x['snippet']['publishedAt']):\n",
    "    print(item['snippet']['title'], item['snippet']['publishedAt'], item['id']['videoId'])"
   ]
  }
 ],
 "metadata": {
  "kernelspec": {
   "display_name": "Python 3",
   "language": "python",
   "name": "python3"
  },
  "language_info": {
   "codemirror_mode": {
    "name": "ipython",
    "version": 3
   },
   "file_extension": ".py",
   "mimetype": "text/x-python",
   "name": "python",
   "nbconvert_exporter": "python",
   "pygments_lexer": "ipython3",
   "version": "3.6.5"
  }
 },
 "nbformat": 4,
 "nbformat_minor": 2
}
